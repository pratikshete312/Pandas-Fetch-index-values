{
 "cells": [
  {
   "cell_type": "code",
   "execution_count": 2,
   "metadata": {},
   "outputs": [
    {
     "name": "stdout",
     "output_type": "stream",
     "text": [
      "a       html\n",
      "b        css\n",
      "2    android\n",
      "dtype: object\n"
     ]
    }
   ],
   "source": [
    "#FETCH INDEX AND VALUES\n",
    "import pandas as pd\n",
    "import numpy as np\n",
    "i = pd.Series(['html', 'css', 'android'], index=['a', 'b', 2])\n",
    "print(i)"
   ]
  },
  {
   "cell_type": "code",
   "execution_count": 3,
   "metadata": {},
   "outputs": [
    {
     "name": "stdout",
     "output_type": "stream",
     "text": [
      "Index(['a', 'b', 2], dtype='object')\n"
     ]
    }
   ],
   "source": [
    "print(i.index)"
   ]
  },
  {
   "cell_type": "code",
   "execution_count": 6,
   "metadata": {},
   "outputs": [
    {
     "name": "stdout",
     "output_type": "stream",
     "text": [
      "['html' 'css' 'android']\n"
     ]
    }
   ],
   "source": [
    "print(i.values)"
   ]
  },
  {
   "cell_type": "code",
   "execution_count": 1,
   "metadata": {},
   "outputs": [
    {
     "name": "stdout",
     "output_type": "stream",
     "text": [
      "a       html\n",
      "b        css\n",
      "2    android\n",
      "dtype: object\n",
      "\n",
      "0       html\n",
      "1        css\n",
      "2    android\n",
      "dtype: object\n"
     ]
    }
   ],
   "source": [
    "\n",
    "import pandas as pd \n",
    "import numpy as np\n",
    "i = pd.Series(['html', 'css', 'android'], index=['a', 'b', 2])\n",
    "j = pd.Series(['html', 'css', 'android'])\n",
    "print(i)\n",
    "print()\n",
    "print(j)"
   ]
  },
  {
   "cell_type": "code",
   "execution_count": 2,
   "metadata": {},
   "outputs": [
    {
     "name": "stdout",
     "output_type": "stream",
     "text": [
      "a       html\n",
      "b        css\n",
      "2    android\n",
      "dtype: object\n",
      "\n",
      "0       html\n",
      "1        css\n",
      "2    android\n",
      "dtype: object\n"
     ]
    }
   ],
   "source": [
    "import pandas as pd\n",
    "import numpy as np\n",
    "i = pd.Series(['html', 'css', 'android'], index=['a', 'b', 2])\n",
    "j = pd.Series(['html', 'css', 'android'])\n",
    "print(i)\n",
    "print()\n",
    "print(j)\n"
   ]
  },
  {
   "cell_type": "code",
   "execution_count": 5,
   "metadata": {},
   "outputs": [
    {
     "name": "stdout",
     "output_type": "stream",
     "text": [
      "Index(['a', 'b', 2], dtype='object')\n",
      "\n",
      "RangeIndex(start=0, stop=3, step=1)\n"
     ]
    }
   ],
   "source": [
    "print(i.index)\n",
    "print()\n",
    "print(j.index)"
   ]
  },
  {
   "cell_type": "code",
   "execution_count": 6,
   "metadata": {},
   "outputs": [
    {
     "name": "stdout",
     "output_type": "stream",
     "text": [
      "a       html\n",
      "b        css\n",
      "2    android\n",
      "dtype: object\n",
      "\n",
      "0    data1\n",
      "1    data2\n",
      "2    data3\n",
      "3    data4\n",
      "dtype: object\n"
     ]
    }
   ],
   "source": [
    "#- INDEX\n",
    "import pandas as pd\n",
    "import numpy as np\n",
    "i = pd.Series(['html', 'css', 'android'], index=['a', 'b', 2])\n",
    "j = pd.Series(['data1', 'data2', 'data3', 'data4'])\n",
    "print(i)\n",
    "print()\n",
    "print(j)"
   ]
  },
  {
   "cell_type": "code",
   "execution_count": 8,
   "metadata": {},
   "outputs": [
    {
     "name": "stdout",
     "output_type": "stream",
     "text": [
      "['html' 'css' 'android']\n",
      "\n",
      "['data1' 'data2' 'data3' 'data4']\n"
     ]
    }
   ],
   "source": [
    "print(i.values)\n",
    "print()\n",
    "print(j.values)"
   ]
  },
  {
   "cell_type": "code",
   "execution_count": 9,
   "metadata": {},
   "outputs": [
    {
     "name": "stdout",
     "output_type": "stream",
     "text": [
      "0    10\n",
      "1    20\n",
      "2    30\n",
      "3    40\n",
      "4    50\n",
      "dtype: int64\n",
      "\n",
      "0    10.1\n",
      "1    20.2\n",
      "2    30.3\n",
      "3    40.4\n",
      "4    50.5\n",
      "dtype: float64\n"
     ]
    }
   ],
   "source": [
    "#dtype\n",
    "import pandas as pd\n",
    "import numpy as np\n",
    "i = pd.Series([10,20,30,40,50])\n",
    "j = pd.Series([10.1, 20.2, 30.3, 40.4, 50.5]) \n",
    "print(i)\n",
    "print()\n",
    "print(j)"
   ]
  },
  {
   "cell_type": "code",
   "execution_count": 10,
   "metadata": {},
   "outputs": [
    {
     "name": "stdout",
     "output_type": "stream",
     "text": [
      "int64\n"
     ]
    }
   ],
   "source": [
    "print(i.dtype)"
   ]
  },
  {
   "cell_type": "code",
   "execution_count": 11,
   "metadata": {},
   "outputs": [
    {
     "name": "stdout",
     "output_type": "stream",
     "text": [
      "float64\n"
     ]
    }
   ],
   "source": [
    "print(j.dtype)"
   ]
  },
  {
   "cell_type": "code",
   "execution_count": 13,
   "metadata": {},
   "outputs": [
    {
     "name": "stdout",
     "output_type": "stream",
     "text": [
      "0    10\n",
      "1    20\n",
      "2    30\n",
      "3    40\n",
      "4    50\n",
      "dtype: int64\n",
      "\n",
      "0    10.1\n",
      "1    20.2\n",
      "2    30.3\n",
      "3    40.4\n",
      "4    50.5\n",
      "dtype: float64\n"
     ]
    }
   ],
   "source": [
    "#Shape\n",
    "import pandas as pd\n",
    "import numpy as np\n",
    "\n",
    "i = pd.Series([10,20,30,40,50])\n",
    "k = pd.Series(['a', 'b', 'c'])\n",
    "print(i)\n",
    "print()\n",
    "print(j)\n"
   ]
  },
  {
   "cell_type": "code",
   "execution_count": 14,
   "metadata": {},
   "outputs": [
    {
     "name": "stdout",
     "output_type": "stream",
     "text": [
      "(5,)\n",
      "(3,)\n"
     ]
    }
   ],
   "source": [
    "print(i.shape)\n",
    "print(k.shape)"
   ]
  },
  {
   "cell_type": "code",
   "execution_count": 17,
   "metadata": {},
   "outputs": [
    {
     "name": "stdout",
     "output_type": "stream",
     "text": [
      "0    10\n",
      "1    20\n",
      "2    30\n",
      "3    40\n",
      "4    50\n",
      "dtype: int64\n",
      "\n",
      "0    a\n",
      "1    b\n",
      "2    c\n",
      "dtype: object\n"
     ]
    }
   ],
   "source": [
    "# DIMENSION\n",
    "\n",
    "import pandas as pd\n",
    "import numpy as np\n",
    "i = pd.Series([10,20,30,40,50])\n",
    "k = pd.Series(['a', 'b', 'c'])\n",
    "print(i)\n",
    "print()\n",
    "print(k)\n"
   ]
  },
  {
   "cell_type": "code",
   "execution_count": 18,
   "metadata": {},
   "outputs": [
    {
     "name": "stdout",
     "output_type": "stream",
     "text": [
      "1 1\n"
     ]
    }
   ],
   "source": [
    "print(i.ndim,k.ndim)"
   ]
  },
  {
   "cell_type": "code",
   "execution_count": 19,
   "metadata": {},
   "outputs": [
    {
     "name": "stdout",
     "output_type": "stream",
     "text": [
      "0    10\n",
      "1    20\n",
      "2    30\n",
      "3    40\n",
      "4    50\n",
      "dtype: int64\n",
      "\n",
      "0    a\n",
      "1    b\n",
      "2    c\n",
      "dtype: object\n"
     ]
    }
   ],
   "source": [
    "import pandas as pd\n",
    "import numpy as np\n",
    "i = pd.Series([10,20,30,40,50])\n",
    "k = pd.Series(['a', 'b', 'c'])\n",
    "print(i)\n",
    "print()\n",
    "print(k)"
   ]
  },
  {
   "cell_type": "code",
   "execution_count": 20,
   "metadata": {},
   "outputs": [
    {
     "name": "stdout",
     "output_type": "stream",
     "text": [
      "5\n",
      "\n",
      "3\n"
     ]
    }
   ],
   "source": [
    "print(i.size)\n",
    "print()\n",
    "print(k.size)"
   ]
  },
  {
   "cell_type": "code",
   "execution_count": 21,
   "metadata": {},
   "outputs": [
    {
     "name": "stdout",
     "output_type": "stream",
     "text": [
      "0    10\n",
      "1    20\n",
      "2    30\n",
      "3    40\n",
      "4    50\n",
      "dtype: int64\n",
      "\n",
      "0    a\n",
      "1    b\n",
      "2    c\n",
      "dtype: object\n",
      "\n",
      "Series([], dtype: float64)\n"
     ]
    },
    {
     "name": "stderr",
     "output_type": "stream",
     "text": [
      "<ipython-input-21-c07bde6a793f>:7: DeprecationWarning: The default dtype for empty Series will be 'object' instead of 'float64' in a future version. Specify a dtype explicitly to silence this warning.\n",
      "  k = pd.Series([])\n"
     ]
    }
   ],
   "source": [
    "import pandas as pd \n",
    "import numpy as np\n",
    "\n",
    "\n",
    "i = pd.Series([10,20,30,40,50])\n",
    "j = pd.Series(['a', 'b', 'c'])\n",
    "k = pd.Series([])\n",
    "print(i)\n",
    "print()\n",
    "print(j)\n",
    "print()\n",
    "print(k)"
   ]
  },
  {
   "cell_type": "code",
   "execution_count": 22,
   "metadata": {},
   "outputs": [
    {
     "name": "stdout",
     "output_type": "stream",
     "text": [
      "False\n",
      "False\n",
      "True\n"
     ]
    }
   ],
   "source": [
    "print(i.empty)\n",
    "print(j.empty)\n",
    "print(k.empty)"
   ]
  },
  {
   "cell_type": "code",
   "execution_count": 23,
   "metadata": {},
   "outputs": [
    {
     "name": "stdout",
     "output_type": "stream",
     "text": [
      "0    10.0\n",
      "1    20.0\n",
      "2    30.0\n",
      "3    40.0\n",
      "4    50.0\n",
      "5     NaN\n",
      "dtype: float64\n",
      "\n",
      "0    a\n",
      "1    b\n",
      "2    c\n",
      "dtype: object\n",
      "\n",
      "Series([], dtype: float64)\n"
     ]
    },
    {
     "name": "stderr",
     "output_type": "stream",
     "text": [
      "<ipython-input-23-5cd0946aea0b>:5: DeprecationWarning: The default dtype for empty Series will be 'object' instead of 'float64' in a future version. Specify a dtype explicitly to silence this warning.\n",
      "  k = pd.Series([])\n"
     ]
    }
   ],
   "source": [
    "#HASNANS\n",
    "import pandas as pd\n",
    "import numpy as np\n",
    "i = pd.Series([10,20,30,40,50, np.NaN])\n",
    "j = pd.Series(['a', 'b', 'c'])\n",
    "k = pd.Series([])\n",
    "print(i)\n",
    "print()\n",
    "print(j)\n",
    "print()\n",
    "print(k)"
   ]
  },
  {
   "cell_type": "code",
   "execution_count": 24,
   "metadata": {},
   "outputs": [
    {
     "name": "stdout",
     "output_type": "stream",
     "text": [
      "True\n",
      "False\n",
      "False\n"
     ]
    }
   ],
   "source": [
    "print(i.hasnans)\n",
    "print(j.hasnans)\n",
    "print(k.hasnans)"
   ]
  },
  {
   "cell_type": "code",
   "execution_count": 25,
   "metadata": {},
   "outputs": [
    {
     "name": "stdout",
     "output_type": "stream",
     "text": [
      "1.1.3\n"
     ]
    }
   ],
   "source": [
    "import pandas as pd\n",
    "print(pd.__version__)"
   ]
  },
  {
   "cell_type": "code",
   "execution_count": 26,
   "metadata": {},
   "outputs": [
    {
     "data": {
      "text/plain": [
       "a    10.0\n",
       "b    20.0\n",
       "c    30.0\n",
       "d    50.0\n",
       "e    50.0\n",
       "dtype: float64"
      ]
     },
     "execution_count": 26,
     "metadata": {},
     "output_type": "execute_result"
    }
   ],
   "source": [
    "import pandas as pd\n",
    "i = pd.Series([10,20,30,50,50],\n",
    "index=['a','b','c','d','e'], dtype=float)\n",
    "i"
   ]
  },
  {
   "cell_type": "code",
   "execution_count": 27,
   "metadata": {},
   "outputs": [
    {
     "data": {
      "text/plain": [
       "a    10.0\n",
       "b    20.0\n",
       "c    30.0\n",
       "d    50.0\n",
       "e    50.0\n",
       "Name: Data values, dtype: float64"
      ]
     },
     "execution_count": 27,
     "metadata": {},
     "output_type": "execute_result"
    }
   ],
   "source": [
    "import pandas as pd\n",
    "i = pd.Series([10,20,30,50,50],\n",
    "index=['a','b','c','d','e'],\n",
    "dtype=float,\n",
    "name=\"Data values\")\n",
    "i"
   ]
  },
  {
   "cell_type": "code",
   "execution_count": 28,
   "metadata": {},
   "outputs": [
    {
     "data": {
      "text/plain": [
       "b    20\n",
       "c    30\n",
       "d    50\n",
       "dtype: int64"
      ]
     },
     "execution_count": 28,
     "metadata": {},
     "output_type": "execute_result"
    }
   ],
   "source": [
    "import pandas as pd\n",
    "i = pd.Series([10,20,30,50,50], index=['a','b','c','d','e'])\n",
    "i\n",
    "i[1:4]"
   ]
  },
  {
   "cell_type": "code",
   "execution_count": 29,
   "metadata": {},
   "outputs": [
    {
     "data": {
      "text/plain": [
       "50"
      ]
     },
     "execution_count": 29,
     "metadata": {},
     "output_type": "execute_result"
    }
   ],
   "source": [
    "import pandas as pd\n",
    "i = pd.Series([10,20,30,50,50], index=['a','b','c','d','e'])\n",
    "i\n",
    "min(i)\n",
    "max(i)"
   ]
  },
  {
   "cell_type": "code",
   "execution_count": 30,
   "metadata": {},
   "outputs": [
    {
     "name": "stdout",
     "output_type": "stream",
     "text": [
      "0    10\n",
      "1    20\n",
      "2    30\n",
      "dtype: int64\n",
      "0    1\n",
      "1    2\n",
      "2    3\n",
      "3    4\n",
      "dtype: int64\n"
     ]
    },
    {
     "data": {
      "text/plain": [
       "0    11.0\n",
       "1    22.0\n",
       "2    33.0\n",
       "3     NaN\n",
       "dtype: float64"
      ]
     },
     "execution_count": 30,
     "metadata": {},
     "output_type": "execute_result"
    }
   ],
   "source": [
    "#ADD OPERATION\n",
    "import pandas as pd\n",
    "i = pd.Series([10,20,30])\n",
    "j = pd.Series([1,2,3, 4])\n",
    "print(i)\n",
    "print(j)\n",
    "i+j"
   ]
  },
  {
   "cell_type": "code",
   "execution_count": 1,
   "metadata": {},
   "outputs": [
    {
     "name": "stdout",
     "output_type": "stream",
     "text": [
      "0    10\n",
      "1    20\n",
      "2    30\n",
      "dtype: int64\n",
      "0    1\n",
      "1    2\n",
      "2    3\n",
      "3    4\n",
      "dtype: int64\n"
     ]
    }
   ],
   "source": [
    "#NOT EQUAL VALUE\n",
    "import pandas as pd\n",
    "i = pd.Series([10,20,30])\n",
    "j = pd.Series([1,2,3, 4])\n",
    "print(i)\n",
    "print(j)"
   ]
  },
  {
   "cell_type": "code",
   "execution_count": 2,
   "metadata": {},
   "outputs": [
    {
     "data": {
      "text/plain": [
       "0    11.0\n",
       "1    22.0\n",
       "2    33.0\n",
       "3     NaN\n",
       "dtype: float64"
      ]
     },
     "execution_count": 2,
     "metadata": {},
     "output_type": "execute_result"
    }
   ],
   "source": [
    "i+j"
   ]
  },
  {
   "cell_type": "code",
   "execution_count": null,
   "metadata": {},
   "outputs": [],
   "source": []
  }
 ],
 "metadata": {
  "kernelspec": {
   "display_name": "Python 3",
   "language": "python",
   "name": "python3"
  },
  "language_info": {
   "codemirror_mode": {
    "name": "ipython",
    "version": 3
   },
   "file_extension": ".py",
   "mimetype": "text/x-python",
   "name": "python",
   "nbconvert_exporter": "python",
   "pygments_lexer": "ipython3",
   "version": "3.8.5"
  }
 },
 "nbformat": 4,
 "nbformat_minor": 4
}
